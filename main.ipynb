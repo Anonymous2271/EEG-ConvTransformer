{
 "cells": [
  {
   "cell_type": "markdown",
   "source": [
    "# Pytorch-Implementation for EEG-ConvTransformer which proposed in citation[1]\n",
    "\"\"\"\n",
    "Created by Xin Zhang, SZU.\n",
    "### README\n",
    "Here presents a demo for training and test\n",
    "Before running, the visualized-image should be generated from EEG signals by run /preprocess/project2img.ipynb, read chapter 3.1 of citation for more details. Note that in this part there are some uncertain coding due to undisclosed details in citation [1]. It's welcome to help me to refine this repository.\n",
    "\n",
    "The proposed method (Called EEG-ConvTransformer) of citation[1] is implemented in /model. It should be no problem.\n",
    "\n",
    "### Ref\n",
    "`[1] Bagchi S, Bathula D R. EEG-ConvTransformer for single-trial EEG-based visual stimulus classification[J]. Pattern Recognition, 2022, 129: 108757.`\n",
    "\n",
    "`[2] Bashivan, et al. \"Learning Representations from EEG with Deep Recurrent-Convolutional Neural Networks.\" International conference on learning representations (2016).`\n",
    "\"\"\""
   ],
   "metadata": {
    "collapsed": false
   }
  },
  {
   "cell_type": "code",
   "execution_count": 8,
   "outputs": [],
   "source": [
    "import numpy as np\n",
    "import torch\n",
    "from torch.utils.data import DataLoader\n",
    "from data_load.dataset import EEGImagesDataset\n",
    "from model.conv_transformer import ConvTransformer\n",
    "torch.manual_seed(1234)\n",
    "np.random.seed(1234)"
   ],
   "metadata": {
    "collapsed": false
   }
  },
  {
   "cell_type": "markdown",
   "source": [
    "Load data.\n",
    "First, download the dataset from https://purl.stanford.edu/bq914sc3730\n",
    "The author[1] referenced Azimuthal Equidistant Projection[2] for EEG-Visualization."
   ],
   "metadata": {
    "collapsed": false
   }
  },
  {
   "cell_type": "code",
   "execution_count": 9,
   "outputs": [],
   "source": [
    "batch_size = 64\n",
    "learning_rate = 0.002\n",
    "epochs = 15"
   ],
   "metadata": {
    "collapsed": false
   }
  },
  {
   "cell_type": "markdown",
   "source": [
    "load the dataset"
   ],
   "metadata": {
    "collapsed": false
   }
  },
  {
   "cell_type": "code",
   "execution_count": 27,
   "outputs": [],
   "source": [
    "dataset = EEGImagesDataset(path='E:/Datasets/Stanford_digital_repository/img_pkl')\n",
    "total_x = dataset.__len__()\n",
    "loader = torch.utils.data.DataLoader(dataset, batch_size=batch_size, num_workers=6, shuffle=True)"
   ],
   "metadata": {
    "collapsed": false
   }
  },
  {
   "cell_type": "markdown",
   "source": [
    "Define the ConvTransformer[1] model and perform training and validation."
   ],
   "metadata": {
    "collapsed": false
   }
  },
  {
   "cell_type": "code",
   "execution_count": 28,
   "outputs": [],
   "source": [
    "model = ConvTransformer(num_classes=6, channels=8, num_heads=2, E=16, F=256, T=32, depth=2).cuda()\n",
    "optimizer = torch.optim.AdamW(model.parameters(), lr=0.002, betas=(0.9, 0.98), eps=1e-9)"
   ],
   "metadata": {
    "collapsed": false
   }
  },
  {
   "cell_type": "code",
   "execution_count": null,
   "outputs": [],
   "source": [
    "if __name__ == '__main__':\n",
    "    step = 0\n",
    "    global_step = 0\n",
    "    for epoch in range(epochs + 1):\n",
    "        for x, y in loader:\n",
    "            x = x.cuda()\n",
    "            y = y.cuda()\n",
    "            model.train()\n",
    "            optimizer.zero_grad()\n",
    "            y_ = model(x)\n",
    "            loss = torch.nn.functional.cross_entropy(y_, y)\n",
    "            loss.backward()\n",
    "            optimizer.step()\n",
    "\n",
    "            step += 1\n",
    "            global_step += 1\n",
    "            if step % 50 == 0:\n",
    "                corrects = (torch.argmax(y_, dim=1).data == y.data)\n",
    "                accuracy = corrects.cpu().int().sum().numpy() / batch_size\n",
    "                print('epoch:{}/{} step:{}/{} global_step:{} '\n",
    "                      'loss={:.5f} acc={:.3f}'.format(epoch, epochs, step, int(total_x / batch_size), global_step, loss,\n",
    "                                                      accuracy))\n",
    "        step = 0\n",
    "    print('done')"
   ],
   "metadata": {
    "collapsed": false,
    "pycharm": {
     "is_executing": true
    }
   }
  }
 ],
 "metadata": {
  "kernelspec": {
   "display_name": "Python 3",
   "language": "python",
   "name": "python3"
  },
  "language_info": {
   "codemirror_mode": {
    "name": "ipython",
    "version": 2
   },
   "file_extension": ".py",
   "mimetype": "text/x-python",
   "name": "python",
   "nbconvert_exporter": "python",
   "pygments_lexer": "ipython2",
   "version": "2.7.6"
  }
 },
 "nbformat": 4,
 "nbformat_minor": 0
}
